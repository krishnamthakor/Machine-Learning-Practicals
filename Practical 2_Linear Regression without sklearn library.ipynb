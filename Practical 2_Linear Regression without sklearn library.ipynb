{
 "cells": [
  {
   "cell_type": "markdown",
   "id": "4fb685d2",
   "metadata": {},
   "source": [
    "Practical 2 : Implementation of Linear Regression and Gradient Descent with using sklearn library."
   ]
  },
  {
   "cell_type": "code",
   "execution_count": 1,
   "id": "92ed326f",
   "metadata": {},
   "outputs": [],
   "source": [
    "import math\n",
    "import numpy as np\n",
    "import pandas as pd\n",
    "from matplotlib.pyplot import plot as plt"
   ]
  },
  {
   "cell_type": "code",
   "execution_count": 2,
   "id": "dc23a4df",
   "metadata": {},
   "outputs": [],
   "source": [
    "import numpy as np\n",
    "\n",
    "def mean_squared_error(y_true, y_predicted):\n",
    "    # Calculating the mean squared error\n",
    "    mse = np.mean((y_true - y_predicted) ** 2)\n",
    "    return mse\n",
    "\n",
    "def gradient_descent(x, y, iterations=100000, learning_rate=0.01, stopping_threshold=1e-20):\n",
    "    # Initialize weights and bias\n",
    "    current_weight = np.random.randn()\n",
    "    current_bias = np.random.randn()\n",
    "    \n",
    "    # Store the history of costs, weights, and biases\n",
    "    costs = []\n",
    "    weights = []\n",
    "    biases = []\n",
    "    \n",
    "    for i in range(iterations):\n",
    "        # Make predictions\n",
    "        y_predicted = current_weight * x + current_bias\n",
    "        \n",
    "        # Compute gradients\n",
    "        # Inside the gradient descent loop\n",
    "        dw = (1/len(x)) * np.sum((y_predicted - y) * x)\n",
    "        db = (1/len(x)) * np.sum(y_predicted - y)\n",
    "\n",
    "        # Clip gradients to a maximum value\n",
    "        max_gradient_value = 100.0  # Adjust as needed\n",
    "        dw = np.clip(dw, -max_gradient_value, max_gradient_value)\n",
    "        db = np.clip(db, -max_gradient_value, max_gradient_value)\n",
    "\n",
    "        # Update parameters using gradient descent\n",
    "        current_weight -= learning_rate * dw\n",
    "        current_bias -= learning_rate * db\n",
    "\n",
    "        \n",
    "        # Calculate the current cost (mean squared error)\n",
    "        current_cost = mean_squared_error(y, y_predicted)\n",
    "        \n",
    "        # Append cost and parameter values to history\n",
    "        costs.append(current_cost)\n",
    "        weights.append(current_weight)\n",
    "        biases.append(current_bias)\n",
    "        \n",
    "        # Check stopping criteria\n",
    "        if i > 0 and abs(costs[i-1] - current_cost) <= stopping_threshold:\n",
    "            break\n",
    "    \n",
    "    return current_weight, current_bias"
   ]
  },
  {
   "cell_type": "code",
   "execution_count": 3,
   "id": "c69e284e",
   "metadata": {},
   "outputs": [],
   "source": [
    "import math\n",
    "import numpy as np\n",
    "import pandas as pd\n",
    "import matplotlib.pyplot as plt\n",
    "\n",
    "class LinearRegression:\n",
    "    def fit(self, X, y):\n",
    "        self.X = X\n",
    "        self.y = y\n",
    "        self.coef_, self.intercept_ = gradient_descent(X, y)\n",
    "\n",
    "    def predict(self, X):\n",
    "        y_predicted = self.coef_ * X + self.intercept_\n",
    "        return y_predicted"
   ]
  },
  {
   "cell_type": "code",
   "execution_count": 4,
   "id": "e0ffe176",
   "metadata": {},
   "outputs": [],
   "source": [
    "model = LinearRegression()"
   ]
  },
  {
   "cell_type": "code",
   "execution_count": 5,
   "id": "8ad84fb1",
   "metadata": {},
   "outputs": [
    {
     "name": "stdout",
     "output_type": "stream",
     "text": [
      "(5, 1)\n",
      "(5,)\n"
     ]
    },
    {
     "data": {
      "text/plain": [
       "0    2600\n",
       "1    3000\n",
       "2    3200\n",
       "3    3600\n",
       "4    4000\n",
       "Name: area, dtype: int64"
      ]
     },
     "execution_count": 5,
     "metadata": {},
     "output_type": "execute_result"
    }
   ],
   "source": [
    "df = pd.read_csv('homeprices.csv')\n",
    "X = df['area']\n",
    "y = df['price']\n",
    "x = np.array(X)\n",
    "\n",
    "x = x.reshape(-1,1)\n",
    "\n",
    "print(x.shape)\n",
    "y = np.array(y)\n",
    "# y = y.reshape(-1,1)\n",
    "print(y.shape)\n",
    "X"
   ]
  },
  {
   "cell_type": "code",
   "execution_count": 6,
   "id": "91470aff",
   "metadata": {},
   "outputs": [],
   "source": [
    "model.fit(x,y)"
   ]
  },
  {
   "cell_type": "code",
   "execution_count": 7,
   "id": "36b3b2c4",
   "metadata": {},
   "outputs": [
    {
     "name": "stdout",
     "output_type": "stream",
     "text": [
      "Predicted: 509598.93425258866\n",
      "Actual: 550000\n"
     ]
    }
   ],
   "source": [
    "# Now, make a prediction for a single example\n",
    "prediction = model.predict(np.array([[2600]]))\n",
    "predicted = prediction[0]\n",
    "print(\"Predicted:\",predicted[0])\n",
    "print(\"Actual:\",y[0])"
   ]
  },
  {
   "cell_type": "code",
   "execution_count": 8,
   "id": "68a34b39",
   "metadata": {},
   "outputs": [
    {
     "name": "stdout",
     "output_type": "stream",
     "text": [
      "157.53819498901032\n",
      "99999.62728116184\n"
     ]
    }
   ],
   "source": [
    "print(model.coef_)\n",
    "print(model.intercept_)"
   ]
  }
 ],
 "metadata": {
  "kernelspec": {
   "display_name": "Python 3 (ipykernel)",
   "language": "python",
   "name": "python3"
  },
  "language_info": {
   "codemirror_mode": {
    "name": "ipython",
    "version": 3
   },
   "file_extension": ".py",
   "mimetype": "text/x-python",
   "name": "python",
   "nbconvert_exporter": "python",
   "pygments_lexer": "ipython3",
   "version": "3.10.9"
  }
 },
 "nbformat": 4,
 "nbformat_minor": 5
}
