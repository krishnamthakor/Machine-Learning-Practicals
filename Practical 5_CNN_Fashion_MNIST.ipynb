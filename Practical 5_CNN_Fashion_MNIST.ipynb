{
 "cells": [
  {
   "cell_type": "markdown",
   "id": "aaa84e1f",
   "metadata": {},
   "source": [
    "PRactical 5 : Implementation of Convolutional Neural Network on Fashion MNIST Dataset."
   ]
  },
  {
   "cell_type": "code",
   "execution_count": 1,
   "id": "2125e2af",
   "metadata": {},
   "outputs": [],
   "source": [
    "import tensorflow\n",
    "from tensorflow import keras\n",
    "from keras.layers import Dense,Conv2D,MaxPooling2D,GlobalAveragePooling2D,Flatten\n",
    "from keras.datasets import fashion_mnist\n",
    "from keras.models import Sequential"
   ]
  },
  {
   "cell_type": "code",
   "execution_count": 2,
   "id": "653fe8a9",
   "metadata": {},
   "outputs": [],
   "source": [
    "(x_train, y_train), (x_test, y_test) = fashion_mnist.load_data()"
   ]
  },
  {
   "cell_type": "code",
   "execution_count": 3,
   "id": "d809a756",
   "metadata": {},
   "outputs": [
    {
     "data": {
      "text/plain": [
       "(60000, 28, 28)"
      ]
     },
     "execution_count": 3,
     "metadata": {},
     "output_type": "execute_result"
    }
   ],
   "source": [
    "x_train.shape"
   ]
  },
  {
   "cell_type": "code",
   "execution_count": 4,
   "id": "5cb51df6",
   "metadata": {},
   "outputs": [
    {
     "data": {
      "text/plain": [
       "(60000,)"
      ]
     },
     "execution_count": 4,
     "metadata": {},
     "output_type": "execute_result"
    }
   ],
   "source": [
    "y_train.shape"
   ]
  },
  {
   "cell_type": "code",
   "execution_count": 5,
   "id": "e3324b6a",
   "metadata": {},
   "outputs": [
    {
     "data": {
      "image/png": "[encoded data removed]",
      "text/plain": [
       "<Figure size 640x480 with 1 Axes>"
      ]
     },
     "metadata": {},
     "output_type": "display_data"
    }
   ],
   "source": [
    "import matplotlib.pyplot as plt\n",
    "plt.imshow(x_train[1,:,:].reshape(28,28),cmap='gray')\n",
    "plt.show()"
   ]
  },
  {
   "cell_type": "code",
   "execution_count": 6,
   "id": "62afa101",
   "metadata": {},
   "outputs": [
    {
     "data": {
      "text/plain": [
       "9"
      ]
     },
     "execution_count": 6,
     "metadata": {},
     "output_type": "execute_result"
    }
   ],
   "source": [
    "y_train[0]"
   ]
  },
  {
   "cell_type": "code",
   "execution_count": 7,
   "id": "c23893ba",
   "metadata": {},
   "outputs": [],
   "source": [
    "from keras.utils import to_categorical\n",
    "y_train_encoded = to_categorical(y_train)\n",
    "y_test_encoded = to_categorical(y_test)"
   ]
  },
  {
   "cell_type": "code",
   "execution_count": 8,
   "id": "b2212d27",
   "metadata": {},
   "outputs": [],
   "source": [
    "x_train_norm = (x_train / 255) - 0.5\n",
    "x_test_norm = (x_test / 255) - 0.5"
   ]
  },
  {
   "cell_type": "code",
   "execution_count": 9,
   "id": "cf367209",
   "metadata": {},
   "outputs": [],
   "source": [
    "x_train_images = x_train_norm.reshape((x_train_norm.shape[0], 28, 28, 1))\n",
    "x_test_images = x_test_norm.reshape((x_test_norm.shape[0], 28, 28, 1))"
   ]
  },
  {
   "cell_type": "code",
   "execution_count": 10,
   "id": "2bdf2932",
   "metadata": {},
   "outputs": [],
   "source": [
    "model = Sequential()\n",
    "\n",
    "model.add(Conv2D(32,(3,3),activation='relu',kernel_initializer='he_normal',input_shape=(28,28,1)))\n",
    "model.add(MaxPooling2D(2,2))\n",
    "\n",
    "model.add(Conv2D(64,(3,3),activation='relu',kernel_initializer='he_normal',input_shape=(28,28,1)))\n",
    "model.add(MaxPooling2D(2,2))\n",
    "\n",
    "model.add(Flatten())\n",
    "model.add(Dense(128,activation='relu'))\n",
    "model.add(Dense(64,activation='relu'))\n",
    "model.add(Dense(32,activation='relu'))\n",
    "model.add(Dense(10,activation='softmax'))"
   ]
  },
  {
   "cell_type": "markdown",
   "id": "d92a3690",
   "metadata": {},
   "source": [
    "model.compile(loss='categorical_crosseddntropy', optimizer=opt, metrics=['accuracy'])\n",
    "model.summary()"
   ]
  },
  {
   "cell_type": "code",
   "execution_count": 11,
   "id": "a66d9c25",
   "metadata": {},
   "outputs": [
    {
     "name": "stdout",
     "output_type": "stream",
     "text": [
      "Model: \"sequential\"\n",
      "_________________________________________________________________\n",
      " Layer (type)                Output Shape              Param #   \n",
      "=================================================================\n",
      " conv2d (Conv2D)             (None, 26, 26, 32)        320       \n",
      "                                                                 \n",
      " max_pooling2d (MaxPooling2  (None, 13, 13, 32)        0         \n",
      " D)                                                              \n",
      "                                                                 \n",
      " conv2d_1 (Conv2D)           (None, 11, 11, 64)        18496     \n",
      "                                                                 \n",
      " max_pooling2d_1 (MaxPoolin  (None, 5, 5, 64)          0         \n",
      " g2D)                                                            \n",
      "                                                                 \n",
      " flatten (Flatten)           (None, 1600)              0         \n",
      "                                                                 \n",
      " dense (Dense)               (None, 128)               204928    \n",
      "                                                                 \n",
      " dense_1 (Dense)             (None, 64)                8256      \n",
      "                                                                 \n",
      " dense_2 (Dense)             (None, 32)                2080      \n",
      "                                                                 \n",
      " dense_3 (Dense)             (None, 10)                330       \n",
      "                                                                 \n",
      "=================================================================\n",
      "Total params: 234410 (915.66 KB)\n",
      "Trainable params: 234410 (915.66 KB)\n",
      "Non-trainable params: 0 (0.00 Byte)\n",
      "_________________________________________________________________\n"
     ]
    }
   ],
   "source": [
    "model.compile(loss='categorical_crossentropy',optimizer='adam',metrics=['accuracy'])\n",
    "model.summary()"
   ]
  },
  {
   "cell_type": "code",
   "execution_count": 12,
   "id": "5af85b25",
   "metadata": {},
   "outputs": [
    {
     "name": "stdout",
     "output_type": "stream",
     "text": [
      "Epoch 1/10\n",
      "1875/1875 [==============================] - 35s 18ms/step - loss: 0.4412 - accuracy: 0.8373\n",
      "Epoch 2/10\n",
      "1875/1875 [==============================] - 33s 18ms/step - loss: 0.2899 - accuracy: 0.8937\n",
      "Epoch 3/10\n",
      "1875/1875 [==============================] - 36s 19ms/step - loss: 0.2408 - accuracy: 0.9115\n",
      "Epoch 4/10\n",
      "1875/1875 [==============================] - 34s 18ms/step - loss: 0.2090 - accuracy: 0.9233\n",
      "Epoch 5/10\n",
      "1875/1875 [==============================] - 36s 19ms/step - loss: 0.1814 - accuracy: 0.9337\n",
      "Epoch 6/10\n",
      "1875/1875 [==============================] - 34s 18ms/step - loss: 0.1572 - accuracy: 0.9406\n",
      "Epoch 7/10\n",
      "1875/1875 [==============================] - 38s 20ms/step - loss: 0.1391 - accuracy: 0.9482\n",
      "Epoch 8/10\n",
      "1875/1875 [==============================] - 38s 20ms/step - loss: 0.1211 - accuracy: 0.9553\n",
      "Epoch 9/10\n",
      "1875/1875 [==============================] - 41s 22ms/step - loss: 0.1088 - accuracy: 0.9591\n",
      "Epoch 10/10\n",
      "1875/1875 [==============================] - 38s 20ms/step - loss: 0.0938 - accuracy: 0.9653\n"
     ]
    }
   ],
   "source": [
    "evaluate = model.fit(x_train_images, y_train_encoded, epochs=10, batch_size=32)"
   ]
  },
  {
   "cell_type": "code",
   "execution_count": 13,
   "id": "4d04e3ae",
   "metadata": {},
   "outputs": [
    {
     "name": "stdout",
     "output_type": "stream",
     "text": [
      "313/313 [==============================] - 3s 10ms/step - loss: 0.3363 - accuracy: 0.9096\n",
      "\n",
      "Accuracy: 90.96%\n"
     ]
    }
   ],
   "source": [
    "scores = model.evaluate(x_test_images, y_test_encoded)\n",
    "print(\"\\nAccuracy: %.2f%%\" % (scores[1]*100))"
   ]
  },
  {
   "cell_type": "code",
   "execution_count": 15,
   "id": "c520aaff",
   "metadata": {},
   "outputs": [
    {
     "name": "stdout",
     "output_type": "stream",
     "text": [
      "Collecting pandoc\n",
      "  Downloading pandoc-2.3.tar.gz (33 kB)\n",
      "  Preparing metadata (setup.py): started\n",
      "  Preparing metadata (setup.py): finished with status 'done'\n",
      "Collecting plumbum (from pandoc)\n",
      "  Obtaining dependency information for plumbum from https://files.pythonhosted.org/packages/6f/e8/a9a580d1d67825d8bdc16f3993ea58c4066769d5f8ba34caaa69a5344b39/plumbum-1.8.2-py3-none-any.whl.metadata\n",
      "  Downloading plumbum-1.8.2-py3-none-any.whl.metadata (10 kB)\n",
      "Collecting ply (from pandoc)\n",
      "  Downloading ply-3.11-py2.py3-none-any.whl (49 kB)\n",
      "     ---------------------------------------- 0.0/49.6 kB ? eta -:--:--\n",
      "     -------- ------------------------------- 10.2/49.6 kB ? eta -:--:--\n",
      "     -------- ------------------------------- 10.2/49.6 kB ? eta -:--:--\n",
      "     ----------------------- -------------- 30.7/49.6 kB 325.1 kB/s eta 0:00:01\n",
      "     -------------------------------------- 49.6/49.6 kB 278.9 kB/s eta 0:00:00\n",
      "Requirement already satisfied: pywin32 in c:\\users\\dell\\appdata\\local\\programs\\python\\python310\\lib\\site-packages (from plumbum->pandoc) (306)\n",
      "Downloading plumbum-1.8.2-py3-none-any.whl (127 kB)\n",
      "   ---------------------------------------- 0.0/127.0 kB ? eta -:--:--\n",
      "   ---------------------------------------- 0.0/127.0 kB ? eta -:--:--\n",
      "   --- ------------------------------------ 10.2/127.0 kB ? eta -:--:--\n",
      "   --- ------------------------------------ 10.2/127.0 kB ? eta -:--:--\n",
      "   --------- ----------------------------- 30.7/127.0 kB 262.6 kB/s eta 0:00:01\n",
      "   ------------ -------------------------- 41.0/127.0 kB 219.4 kB/s eta 0:00:01\n",
      "   ------------ -------------------------- 41.0/127.0 kB 219.4 kB/s eta 0:00:01\n",
      "   ------------------ -------------------- 61.4/127.0 kB 218.8 kB/s eta 0:00:01\n",
      "   ------------------ -------------------- 61.4/127.0 kB 218.8 kB/s eta 0:00:01\n",
      "   ------------------------- ------------- 81.9/127.0 kB 218.5 kB/s eta 0:00:01\n",
      "   ---------------------------- ---------- 92.2/127.0 kB 210.1 kB/s eta 0:00:01\n",
      "   ---------------------------- ---------- 92.2/127.0 kB 210.1 kB/s eta 0:00:01\n",
      "   --------------------------------- ---- 112.6/127.0 kB 226.0 kB/s eta 0:00:01\n",
      "   -------------------------------------- 127.0/127.0 kB 220.0 kB/s eta 0:00:00\n",
      "Building wheels for collected packages: pandoc\n",
      "  Building wheel for pandoc (setup.py): started\n",
      "  Building wheel for pandoc (setup.py): finished with status 'done'\n",
      "  Created wheel for pandoc: filename=pandoc-2.3-py3-none-any.whl size=33288 sha256=3ca4528c4e1e7e7fbb94b45ddbec60c477dfe82195489037ab8ad1245af98ad7\n",
      "  Stored in directory: c:\\users\\dell\\appdata\\local\\pip\\cache\\wheels\\76\\27\\c2\\c26175310aadcb8741b77657a1bb49c50cc7d4cdbf9eee0005\n",
      "Successfully built pandoc\n",
      "Installing collected packages: ply, plumbum, pandoc\n",
      "Successfully installed pandoc-2.3 plumbum-1.8.2 ply-3.11\n"
     ]
    }
   ],
   "source": [
    "!pip install pandoc"
   ]
  },
  {
   "cell_type": "code",
   "execution_count": null,
   "id": "af2297e3",
   "metadata": {},
   "outputs": [],
   "source": []
  }
 ],
 "metadata": {
  "kernelspec": {
   "display_name": "Python 3 (ipykernel)",
   "language": "python",
   "name": "python3"
  },
  "language_info": {
   "codemirror_mode": {
    "name": "ipython",
    "version": 3
   },
   "file_extension": ".py",
   "mimetype": "text/x-python",
   "name": "python",
   "nbconvert_exporter": "python",
   "pygments_lexer": "ipython3",
   "version": "3.10.9"
  }
 },
 "nbformat": 4,
 "nbformat_minor": 5
}
