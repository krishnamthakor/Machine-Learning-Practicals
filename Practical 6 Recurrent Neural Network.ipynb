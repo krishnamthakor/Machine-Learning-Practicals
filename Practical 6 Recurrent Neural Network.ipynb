{
 "cells": [
  {
   "cell_type": "markdown",
   "metadata": {
    "id": "056FGNsIiZwz"
   },
   "source": [
    "Practical 6 : Implement Recurrent Neural Network (RNN) for sentiment analysis on IMDB review data."
   ]
  },
  {
   "cell_type": "markdown",
   "metadata": {},
   "source": [
    "ID : 21CE142"
   ]
  },
  {
   "cell_type": "code",
   "execution_count": 3,
   "metadata": {
    "id": "itNCbYjrm--5"
   },
   "outputs": [],
   "source": [
    "import pandas as pd\n",
    "import numpy as np"
   ]
  },
  {
   "cell_type": "code",
   "execution_count": 4,
   "metadata": {
    "id": "gVUdofayu6Rm"
   },
   "outputs": [],
   "source": [
    "import re\n",
    "import nltk\n",
    "from nltk.corpus import stopwords\n",
    "\n",
    "from numpy import array\n",
    "from keras.preprocessing.text import one_hot\n",
    "from keras.utils import pad_sequences\n",
    "from keras.models import Sequential\n",
    "from keras.layers.core import Activation, Dropout, Dense\n",
    "from keras.layers import Flatten, GlobalMaxPooling1D, Embedding\n",
    "from sklearn.model_selection import train_test_split\n",
    "from keras.preprocessing.text import Tokenizer"
   ]
  },
  {
   "cell_type": "code",
   "execution_count": 5,
   "metadata": {
    "colab": {
     "base_uri": "https://localhost:8080/"
    },
    "id": "Z46sy9osoeMM",
    "outputId": "16227123-ec31-4e52-f8b3-4f41fc7aaf36"
   },
   "outputs": [
    {
     "data": {
      "text/plain": [
       "False"
      ]
     },
     "execution_count": 5,
     "metadata": {},
     "output_type": "execute_result"
    }
   ],
   "source": [
    "movie_reviews = pd.read_csv('IMDB Dataset.csv')\n",
    "movie_reviews.isnull().values.any()"
   ]
  },
  {
   "cell_type": "code",
   "execution_count": 6,
   "metadata": {
    "colab": {
     "base_uri": "https://localhost:8080/",
     "height": 206
    },
    "id": "8Qh60nRGdA-_",
    "outputId": "caf0c44f-d470-4f3e-9089-3a62b175aad7"
   },
   "outputs": [
    {
     "data": {
      "text/html": [
       "<div>\n",
       "<style scoped>\n",
       "    .dataframe tbody tr th:only-of-type {\n",
       "        vertical-align: middle;\n",
       "    }\n",
       "\n",
       "    .dataframe tbody tr th {\n",
       "        vertical-align: top;\n",
       "    }\n",
       "\n",
       "    .dataframe thead th {\n",
       "        text-align: right;\n",
       "    }\n",
       "</style>\n",
       "<table border=\"1\" class=\"dataframe\">\n",
       "  <thead>\n",
       "    <tr style=\"text-align: right;\">\n",
       "      <th></th>\n",
       "      <th>review</th>\n",
       "      <th>sentiment</th>\n",
       "    </tr>\n",
       "  </thead>\n",
       "  <tbody>\n",
       "    <tr>\n",
       "      <th>0</th>\n",
       "      <td>One of the other reviewers has mentioned that ...</td>\n",
       "      <td>positive</td>\n",
       "    </tr>\n",
       "    <tr>\n",
       "      <th>1</th>\n",
       "      <td>A wonderful little production. &lt;br /&gt;&lt;br /&gt;The...</td>\n",
       "      <td>positive</td>\n",
       "    </tr>\n",
       "    <tr>\n",
       "      <th>2</th>\n",
       "      <td>I thought this was a wonderful way to spend ti...</td>\n",
       "      <td>positive</td>\n",
       "    </tr>\n",
       "    <tr>\n",
       "      <th>3</th>\n",
       "      <td>Basically there's a family where a little boy ...</td>\n",
       "      <td>negative</td>\n",
       "    </tr>\n",
       "    <tr>\n",
       "      <th>4</th>\n",
       "      <td>Petter Mattei's \"Love in the Time of Money\" is...</td>\n",
       "      <td>positive</td>\n",
       "    </tr>\n",
       "  </tbody>\n",
       "</table>\n",
       "</div>"
      ],
      "text/plain": [
       "                                              review sentiment\n",
       "0  One of the other reviewers has mentioned that ...  positive\n",
       "1  A wonderful little production. <br /><br />The...  positive\n",
       "2  I thought this was a wonderful way to spend ti...  positive\n",
       "3  Basically there's a family where a little boy ...  negative\n",
       "4  Petter Mattei's \"Love in the Time of Money\" is...  positive"
      ]
     },
     "execution_count": 6,
     "metadata": {},
     "output_type": "execute_result"
    }
   ],
   "source": [
    "movie_reviews.shape\n",
    "movie_reviews.head()"
   ]
  },
  {
   "cell_type": "code",
   "execution_count": 7,
   "metadata": {
    "colab": {
     "base_uri": "https://localhost:8080/",
     "height": 157
    },
    "id": "6eLTr0QZpCAF",
    "outputId": "89d43511-cde0-4831-95d2-b1e739e215cb"
   },
   "outputs": [
    {
     "data": {
      "text/plain": [
       "'I thought this was a wonderful way to spend time on a too hot summer weekend, sitting in the air conditioned theater and watching a light-hearted comedy. The plot is simplistic, but the dialogue is witty and the characters are likable (even the well bread suspected serial killer). While some may be disappointed when they realize this is not Match Point 2: Risk Addiction, I thought it was proof that Woody Allen is still fully in control of the style many of us have grown to love.<br /><br />This was the most I\\'d laughed at one of Woody\\'s comedies in years (dare I say a decade?). While I\\'ve never been impressed with Scarlet Johanson, in this she managed to tone down her \"sexy\" image and jumped right into a average, but spirited young woman.<br /><br />This may not be the crown jewel of his career, but it was wittier than \"Devil Wears Prada\" and more interesting than \"Superman\" a great comedy to go see with friends.'"
      ]
     },
     "execution_count": 7,
     "metadata": {},
     "output_type": "execute_result"
    }
   ],
   "source": [
    "movie_reviews[\"review\"][2]"
   ]
  },
  {
   "cell_type": "code",
   "execution_count": 8,
   "metadata": {
    "colab": {
     "base_uri": "https://localhost:8080/",
     "height": 466
    },
    "id": "VnPZNTdVpXEc",
    "outputId": "1b3d0853-ccb6-4652-9d88-5dc8fb8c2a11"
   },
   "outputs": [
    {
     "data": {
      "text/plain": [
       "<AxesSubplot:xlabel='sentiment', ylabel='count'>"
      ]
     },
     "execution_count": 8,
     "metadata": {},
     "output_type": "execute_result"
    },
    {
     "data": {
      "image/png": "[encoded data removed]",
      "text/plain": [
       "<Figure size 432x288 with 1 Axes>"
      ]
     },
     "metadata": {
      "needs_background": "light"
     },
     "output_type": "display_data"
    }
   ],
   "source": [
    "import seaborn as sns\n",
    "\n",
    "sns.countplot(x='sentiment', data=movie_reviews)"
   ]
  },
  {
   "cell_type": "code",
   "execution_count": 9,
   "metadata": {
    "colab": {
     "base_uri": "https://localhost:8080/"
    },
    "id": "9XexdMOieK8T",
    "outputId": "e34d7137-c8a7-4299-bf12-46ffc6ba9246"
   },
   "outputs": [
    {
     "name": "stdout",
     "output_type": "stream",
     "text": [
      "!\"#$%&'()*+,-./:;<=>?@[\\]^_`{|}~\n"
     ]
    }
   ],
   "source": [
    "import string\n",
    "print(string.punctuation)"
   ]
  },
  {
   "cell_type": "code",
   "execution_count": 10,
   "metadata": {
    "id": "qXqiAnTHpXyh"
   },
   "outputs": [],
   "source": [
    "import string\n",
    "string.punctuation\n",
    "TAG_RE = re.compile(r'<[^>]+>')\n",
    "\n",
    "def remove_tags(text):\n",
    "    return TAG_RE.sub('', text)\n",
    "\n",
    "\n",
    "def preprocess_text(sen):\n",
    "    # Removing html tags\n",
    "    sentence = remove_tags(sen)\n",
    "\n",
    "    # Remove punctuations and numbers\n",
    "    #sentence = re.sub('[^a-zA-Z]', ' ', sentence)\n",
    "    sentence=\"\".join([i for i in sentence if i not in string.punctuation])\n",
    "    # Single character removal\n",
    "    sentence = re.sub(r\"\\s+[a-zA-Z]\\s+\", ' ', sentence)\n",
    "\n",
    "    # Removing multiple spaces\n",
    "    sentence = re.sub(r'\\s+', ' ', sentence)\n",
    "\n",
    "    return sentence"
   ]
  },
  {
   "cell_type": "code",
   "execution_count": 11,
   "metadata": {
    "id": "R1oEKbvNp1h1"
   },
   "outputs": [],
   "source": [
    "X = []\n",
    "sentences = list(movie_reviews['review'])\n",
    "for sen in sentences:\n",
    "    X.append(preprocess_text(sen))"
   ]
  },
  {
   "cell_type": "code",
   "execution_count": 12,
   "metadata": {
    "colab": {
     "base_uri": "https://localhost:8080/"
    },
    "id": "kn_cqJYGp3eL",
    "outputId": "c8f14781-0b93-4253-9b66-89721e4d8723"
   },
   "outputs": [
    {
     "data": {
      "text/plain": [
       "(\"Basically there's a family where a little boy (Jake) thinks there's a zombie in his closet & his parents are fighting all the time.<br /><br />This movie is slower than a soap opera... and suddenly, Jake decides to become Rambo and kill the zombie.<br /><br />OK, first of all when you're going to make a film you must Decide if its a thriller or a drama! As a drama the movie is watchable. Parents are divorcing & arguing like in real life. And then we have Jake with his closet which totally ruins all the film! I expected to see a BOOGEYMAN similar movie, and instead i watched a drama with some meaningless thriller spots.<br /><br />3 out of 10 just for the well playing parents & descent dialogs. As for the shots with Jake: just ignore them.\",\n",
       " 'Basically theres family where little boy Jake thinks theres zombie in his closet his parents are fighting all the timeThis movie is slower than soap opera and suddenly Jake decides to become Rambo and kill the zombieOK first of all when youre going to make film you must Decide if its thriller or drama As drama the movie is watchable Parents are divorcing arguing like in real life And then we have Jake with his closet which totally ruins all the film expected to see BOOGEYMAN similar movie and instead watched drama with some meaningless thriller spots3 out of 10 just for the well playing parents descent dialogs As for the shots with Jake just ignore them')"
      ]
     },
     "execution_count": 12,
     "metadata": {},
     "output_type": "execute_result"
    }
   ],
   "source": [
    "movie_reviews[\"review\"][3],X[3]"
   ]
  },
  {
   "cell_type": "code",
   "execution_count": 13,
   "metadata": {
    "colab": {
     "base_uri": "https://localhost:8080/"
    },
    "id": "oEkY0j8ZEYaJ",
    "outputId": "7e59ff23-d685-4014-f9fe-62dc649e02ff"
   },
   "outputs": [
    {
     "name": "stdout",
     "output_type": "stream",
     "text": [
      "The mean is217.0889\n"
     ]
    }
   ],
   "source": [
    "#find the number of words in each review.\n",
    "doc_len = []\n",
    "docs=movie_reviews[\"review\"]\n",
    "docs=X\n",
    "for i in range(len(docs)):\n",
    "    count_w=len(docs[i].split(\" \"))\n",
    "    doc_len.append(count_w)\n",
    "doc_len=np.array(doc_len)\n",
    "print(\"The mean is\" + str(np.mean(doc_len)))"
   ]
  },
  {
   "cell_type": "code",
   "execution_count": 14,
   "metadata": {
    "id": "bA9GQlDJp588"
   },
   "outputs": [],
   "source": [
    "y = movie_reviews['sentiment']\n",
    "\n",
    "y = np.array(list(map(lambda x: 1 if x==\"positive\" else 0, y)))"
   ]
  },
  {
   "cell_type": "code",
   "execution_count": 15,
   "metadata": {
    "id": "mr8dippVl33a"
   },
   "outputs": [],
   "source": [
    "from sklearn.preprocessing import LabelEncoder\n",
    "encoder =  LabelEncoder()\n",
    "y1 = encoder.fit_transform(y)\n",
    "Y = pd.get_dummies(y1).values"
   ]
  },
  {
   "cell_type": "code",
   "execution_count": 16,
   "metadata": {
    "colab": {
     "base_uri": "https://localhost:8080/"
    },
    "id": "F4uhKZk5fxFW",
    "outputId": "d94c2a97-cd40-4e1f-ba82-ca1df1ec2e48"
   },
   "outputs": [
    {
     "data": {
      "text/plain": [
       "array([[0, 1],\n",
       "       [0, 1],\n",
       "       [0, 1],\n",
       "       ...,\n",
       "       [1, 0],\n",
       "       [1, 0],\n",
       "       [1, 0]], dtype=uint8)"
      ]
     },
     "execution_count": 16,
     "metadata": {},
     "output_type": "execute_result"
    }
   ],
   "source": [
    "Y"
   ]
  },
  {
   "cell_type": "code",
   "execution_count": 17,
   "metadata": {
    "id": "U7zg9Dewp9mi"
   },
   "outputs": [],
   "source": [
    "X_train, X_test, y_train, y_test = train_test_split(X, y, test_size=0.20, random_state=42)"
   ]
  },
  {
   "cell_type": "code",
   "execution_count": 18,
   "metadata": {
    "id": "rAV0-ibJqBWt"
   },
   "outputs": [],
   "source": [
    "#tokenizer = Tokenizer(num_words=5000)\n",
    "tokenizer = Tokenizer(num_words=5000)\n",
    "tokenizer.fit_on_texts(X_train)\n",
    "\n",
    "X_train = tokenizer.texts_to_sequences(X_train)\n",
    "X_test = tokenizer.texts_to_sequences(X_test)\n",
    "#sent = tokenizer.texts_to_sequences(sentence)"
   ]
  },
  {
   "cell_type": "code",
   "execution_count": 19,
   "metadata": {
    "colab": {
     "base_uri": "https://localhost:8080/"
    },
    "id": "O8qtez5EHg3t",
    "outputId": "ab4b7c41-77f4-45ed-e8cc-d26d188a281f"
   },
   "outputs": [
    {
     "data": {
      "text/plain": [
       "{1: 'the',\n",
       " 2: 'and',\n",
       " 3: 'of',\n",
       " 4: 'to',\n",
       " 5: 'is',\n",
       " 6: 'in',\n",
       " 7: 'it',\n",
       " 8: 'this',\n",
       " 9: 'that',\n",
       " 10: 'was',\n",
       " 11: 'as',\n",
       " 12: 'with',\n",
       " 13: 'for',\n",
       " 14: 'movie',\n",
       " 15: 'but',\n",
       " 16: 'film',\n",
       " 17: 'on',\n",
       " 18: 'not',\n",
       " 19: 'you',\n",
       " 20: 'are',\n",
       " 21: 'his',\n",
       " 22: 'have',\n",
       " 23: 'be',\n",
       " 24: 'he',\n",
       " 25: 'one',\n",
       " 26: 'its',\n",
       " 27: 'at',\n",
       " 28: 'all',\n",
       " 29: 'by',\n",
       " 30: 'an',\n",
       " 31: 'they',\n",
       " 32: 'from',\n",
       " 33: 'who',\n",
       " 34: 'like',\n",
       " 35: 'so',\n",
       " 36: 'or',\n",
       " 37: 'just',\n",
       " 38: 'her',\n",
       " 39: 'about',\n",
       " 40: 'has',\n",
       " 41: 'out',\n",
       " 42: 'if',\n",
       " 43: 'some',\n",
       " 44: 'what',\n",
       " 45: 'there',\n",
       " 46: 'good',\n",
       " 47: 'very',\n",
       " 48: 'more',\n",
       " 49: 'when',\n",
       " 50: 'even',\n",
       " 51: 'no',\n",
       " 52: 'my',\n",
       " 53: 'up',\n",
       " 54: 'would',\n",
       " 55: 'she',\n",
       " 56: 'time',\n",
       " 57: 'only',\n",
       " 58: 'which',\n",
       " 59: 'really',\n",
       " 60: 'their',\n",
       " 61: 'see',\n",
       " 62: 'story',\n",
       " 63: 'were',\n",
       " 64: 'had',\n",
       " 65: 'can',\n",
       " 66: 'me',\n",
       " 67: 'than',\n",
       " 68: 'we',\n",
       " 69: 'much',\n",
       " 70: 'well',\n",
       " 71: 'been',\n",
       " 72: 'get',\n",
       " 73: 'will',\n",
       " 74: 'do',\n",
       " 75: 'into',\n",
       " 76: 'great',\n",
       " 77: 'bad',\n",
       " 78: 'other',\n",
       " 79: 'also',\n",
       " 80: 'people',\n",
       " 81: 'because',\n",
       " 82: 'how',\n",
       " 83: 'most',\n",
       " 84: 'him',\n",
       " 85: 'first',\n",
       " 86: 'dont',\n",
       " 87: 'movies',\n",
       " 88: 'made',\n",
       " 89: 'could',\n",
       " 90: 'then',\n",
       " 91: 'make',\n",
       " 92: 'them',\n",
       " 93: 'films',\n",
       " 94: 'way',\n",
       " 95: 'any',\n",
       " 96: 'too',\n",
       " 97: 'characters',\n",
       " 98: 'after',\n",
       " 99: 'think',\n",
       " 100: 'watch',\n",
       " 101: 'many',\n",
       " 102: 'seen',\n",
       " 103: 'being',\n",
       " 104: 'character',\n",
       " 105: 'two',\n",
       " 106: 'never',\n",
       " 107: 'love',\n",
       " 108: 'acting',\n",
       " 109: 'plot',\n",
       " 110: 'where',\n",
       " 111: 'did',\n",
       " 112: 'best',\n",
       " 113: 'little',\n",
       " 114: 'know',\n",
       " 115: 'show',\n",
       " 116: 'ever',\n",
       " 117: 'life',\n",
       " 118: 'does',\n",
       " 119: 'your',\n",
       " 120: 'better',\n",
       " 121: 'off',\n",
       " 122: 'over',\n",
       " 123: 'scene',\n",
       " 124: 'end',\n",
       " 125: 'say',\n",
       " 126: 'still',\n",
       " 127: 'these',\n",
       " 128: 'man',\n",
       " 129: 'scenes',\n",
       " 130: 'why',\n",
       " 131: 'here',\n",
       " 132: 'such',\n",
       " 133: 'while',\n",
       " 134: 'something',\n",
       " 135: 'should',\n",
       " 136: 'go',\n",
       " 137: 'through',\n",
       " 138: 'i',\n",
       " 139: 'those',\n",
       " 140: 'back',\n",
       " 141: 'real',\n",
       " 142: 'im',\n",
       " 143: 'watching',\n",
       " 144: 'thing',\n",
       " 145: 'doesnt',\n",
       " 146: 'didnt',\n",
       " 147: 'actors',\n",
       " 148: 'years',\n",
       " 149: 'actually',\n",
       " 150: 'though',\n",
       " 151: 'now',\n",
       " 152: 'makes',\n",
       " 153: 'funny',\n",
       " 154: 'find',\n",
       " 155: 'before',\n",
       " 156: 'going',\n",
       " 157: 'nothing',\n",
       " 158: 'another',\n",
       " 159: 'look',\n",
       " 160: 'same',\n",
       " 161: 'lot',\n",
       " 162: 'new',\n",
       " 163: 'few',\n",
       " 164: 'work',\n",
       " 165: 'every',\n",
       " 166: 'old',\n",
       " 167: 'us',\n",
       " 168: 'part',\n",
       " 169: 'again',\n",
       " 170: 'cant',\n",
       " 171: 'things',\n",
       " 172: 'director',\n",
       " 173: 'quite',\n",
       " 174: 'want',\n",
       " 175: 'cast',\n",
       " 176: 'thats',\n",
       " 177: 'pretty',\n",
       " 178: 'seems',\n",
       " 179: 'around',\n",
       " 180: 'got',\n",
       " 181: 'young',\n",
       " 182: 'down',\n",
       " 183: 'take',\n",
       " 184: 'world',\n",
       " 185: 'fact',\n",
       " 186: 'enough',\n",
       " 187: 'thought',\n",
       " 188: 'give',\n",
       " 189: 'both',\n",
       " 190: 'big',\n",
       " 191: 'horror',\n",
       " 192: 'may',\n",
       " 193: 'own',\n",
       " 194: 'ive',\n",
       " 195: 'however',\n",
       " 196: 'between',\n",
       " 197: 'without',\n",
       " 198: 'long',\n",
       " 199: 'saw',\n",
       " 200: 'isnt',\n",
       " 201: 'always',\n",
       " 202: 'original',\n",
       " 203: 'gets',\n",
       " 204: 'must',\n",
       " 205: 'music',\n",
       " 206: 'almost',\n",
       " 207: 'right',\n",
       " 208: 'series',\n",
       " 209: 'whole',\n",
       " 210: 'come',\n",
       " 211: 'least',\n",
       " 212: 'times',\n",
       " 213: 'interesting',\n",
       " 214: 'role',\n",
       " 215: 'comedy',\n",
       " 216: 'guy',\n",
       " 217: 'point',\n",
       " 218: 'action',\n",
       " 219: 'done',\n",
       " 220: 'theres',\n",
       " 221: 'far',\n",
       " 222: 'bit',\n",
       " 223: 'am',\n",
       " 224: 'feel',\n",
       " 225: 'might',\n",
       " 226: 'minutes',\n",
       " 227: 'script',\n",
       " 228: 'anything',\n",
       " 229: 'hes',\n",
       " 230: 'since',\n",
       " 231: 'probably',\n",
       " 232: 'family',\n",
       " 233: 'last',\n",
       " 234: 'performance',\n",
       " 235: 'kind',\n",
       " 236: 'worst',\n",
       " 237: 'tv',\n",
       " 238: 'away',\n",
       " 239: 'rather',\n",
       " 240: 'yet',\n",
       " 241: 'fun',\n",
       " 242: 'anyone',\n",
       " 243: 'found',\n",
       " 244: 'each',\n",
       " 245: 'sure',\n",
       " 246: 'making',\n",
       " 247: 'played',\n",
       " 248: 'girl',\n",
       " 249: 'our',\n",
       " 250: 'believe',\n",
       " 251: 'shows',\n",
       " 252: 'trying',\n",
       " 253: 'woman',\n",
       " 254: 'having',\n",
       " 255: 'course',\n",
       " 256: 'hard',\n",
       " 257: 'especially',\n",
       " 258: 'comes',\n",
       " 259: 'goes',\n",
       " 260: 'put',\n",
       " 261: 'although',\n",
       " 262: 'day',\n",
       " 263: 'everything',\n",
       " 264: 'main',\n",
       " 265: 'dvd',\n",
       " 266: 'different',\n",
       " 267: 'worth',\n",
       " 268: 'looking',\n",
       " 269: 'ending',\n",
       " 270: 'place',\n",
       " 271: 'watched',\n",
       " 272: 'looks',\n",
       " 273: 'wasnt',\n",
       " 274: 'maybe',\n",
       " 275: 'effects',\n",
       " 276: 'book',\n",
       " 277: 'sense',\n",
       " 278: 'once',\n",
       " 279: 'reason',\n",
       " 280: 'set',\n",
       " 281: 'screen',\n",
       " 282: 'someone',\n",
       " 283: 'three',\n",
       " 284: 'money',\n",
       " 285: 'true',\n",
       " 286: 'job',\n",
       " 287: 'plays',\n",
       " 288: 'play',\n",
       " 289: 'takes',\n",
       " 290: 'during',\n",
       " 291: 'together',\n",
       " 292: 'said',\n",
       " 293: '10',\n",
       " 294: 'actor',\n",
       " 295: 'special',\n",
       " 296: 'everyone',\n",
       " 297: '2',\n",
       " 298: 'seem',\n",
       " 299: 'instead',\n",
       " 300: 'left',\n",
       " 301: 'seeing',\n",
       " 302: 'later',\n",
       " 303: 'american',\n",
       " 304: 'beautiful',\n",
       " 305: 'himself',\n",
       " 306: 'audience',\n",
       " 307: 'excellent',\n",
       " 308: 'war',\n",
       " 309: 'night',\n",
       " 310: 'version',\n",
       " 311: 'john',\n",
       " 312: 'shot',\n",
       " 313: 'idea',\n",
       " 314: 'high',\n",
       " 315: 'fan',\n",
       " 316: 'house',\n",
       " 317: 'simply',\n",
       " 318: 'black',\n",
       " 319: 'youre',\n",
       " 320: 'used',\n",
       " 321: 'completely',\n",
       " 322: 'nice',\n",
       " 323: 'poor',\n",
       " 324: 'death',\n",
       " 325: 'read',\n",
       " 326: 'kids',\n",
       " 327: 'short',\n",
       " 328: 'wife',\n",
       " 329: 'else',\n",
       " 330: 'friends',\n",
       " 331: 'along',\n",
       " 332: 'help',\n",
       " 333: 'second',\n",
       " 334: 'try',\n",
       " 335: 'men',\n",
       " 336: 'home',\n",
       " 337: 'need',\n",
       " 338: 'boring',\n",
       " 339: 'mind',\n",
       " 340: 'star',\n",
       " 341: 'until',\n",
       " 342: 'given',\n",
       " 343: 'use',\n",
       " 344: 'year',\n",
       " 345: 'enjoy',\n",
       " 346: 'less',\n",
       " 347: 'half',\n",
       " 348: 'either',\n",
       " 349: 'rest',\n",
       " 350: 'truly',\n",
       " 351: 'performances',\n",
       " 352: 'classic',\n",
       " 353: 'dead',\n",
       " 354: 'recommend',\n",
       " 355: 'production',\n",
       " 356: 'couple',\n",
       " 357: 'father',\n",
       " 358: 'wrong',\n",
       " 359: 'tell',\n",
       " 360: 'next',\n",
       " 361: 'line',\n",
       " 362: 'came',\n",
       " 363: 'stupid',\n",
       " 364: 'start',\n",
       " 365: 'hollywood',\n",
       " 366: 'full',\n",
       " 367: 'understand',\n",
       " 368: 'let',\n",
       " 369: 'women',\n",
       " 370: 'getting',\n",
       " 371: 'mean',\n",
       " 372: 'remember',\n",
       " 373: 'terrible',\n",
       " 374: 'school',\n",
       " 375: 'wonderful',\n",
       " 376: 'camera',\n",
       " 377: 'keep',\n",
       " 378: 'others',\n",
       " 379: 'moments',\n",
       " 380: 'awful',\n",
       " 381: 'sex',\n",
       " 382: 'name',\n",
       " 383: 'video',\n",
       " 384: 'episode',\n",
       " 385: 'perhaps',\n",
       " 386: 'human',\n",
       " 387: 'gives',\n",
       " 388: 'itself',\n",
       " 389: 'budget',\n",
       " 390: 'playing',\n",
       " 391: 'definitely',\n",
       " 392: 'early',\n",
       " 393: 'doing',\n",
       " 394: 'small',\n",
       " 395: 'often',\n",
       " 396: 'person',\n",
       " 397: 'couldnt',\n",
       " 398: 'top',\n",
       " 399: 'perfect',\n",
       " 400: 'dialogue',\n",
       " 401: 'went',\n",
       " 402: 'stars',\n",
       " 403: 'lines',\n",
       " 404: 'guys',\n",
       " 405: 'liked',\n",
       " 406: 'absolutely',\n",
       " 407: 'certainly',\n",
       " 408: 'face',\n",
       " 409: 'case',\n",
       " 410: 'piece',\n",
       " 411: 'head',\n",
       " 412: 'sort',\n",
       " 413: 'become',\n",
       " 414: 'hope',\n",
       " 415: 'loved',\n",
       " 416: 'entire',\n",
       " 417: 'supposed',\n",
       " 418: 'several',\n",
       " 419: 'mother',\n",
       " 420: 'written',\n",
       " 421: 'style',\n",
       " 422: 'lost',\n",
       " 423: 'felt',\n",
       " 424: 'live',\n",
       " 425: 'entertaining',\n",
       " 426: 'finally',\n",
       " 427: 'worse',\n",
       " 428: 'problem',\n",
       " 429: 'title',\n",
       " 430: 'sound',\n",
       " 431: 'totally',\n",
       " 432: 'laugh',\n",
       " 433: 'waste',\n",
       " 434: 'boy',\n",
       " 435: 'friend',\n",
       " 436: 'seemed',\n",
       " 437: 'picture',\n",
       " 438: 'against',\n",
       " 439: 'wanted',\n",
       " 440: 'based',\n",
       " 441: 'beginning',\n",
       " 442: 'shes',\n",
       " 443: 'care',\n",
       " 444: 'cinema',\n",
       " 445: 'dark',\n",
       " 446: 'youll',\n",
       " 447: 'mr',\n",
       " 448: 'humor',\n",
       " 449: 'becomes',\n",
       " 450: 'already',\n",
       " 451: 'yes',\n",
       " 452: 'direction',\n",
       " 453: 'lead',\n",
       " 454: 'turn',\n",
       " 455: 'wont',\n",
       " 456: 'example',\n",
       " 457: 'fans',\n",
       " 458: 'evil',\n",
       " 459: 'game',\n",
       " 460: 'children',\n",
       " 461: 'lives',\n",
       " 462: '3',\n",
       " 463: 'final',\n",
       " 464: 'throughout',\n",
       " 465: 'oh',\n",
       " 466: 'guess',\n",
       " 467: 'id',\n",
       " 468: 'low',\n",
       " 469: 'called',\n",
       " 470: 'able',\n",
       " 471: 'days',\n",
       " 472: 'girls',\n",
       " 473: 'wants',\n",
       " 474: 'drama',\n",
       " 475: 'fine',\n",
       " 476: 'quality',\n",
       " 477: 'white',\n",
       " 478: 'under',\n",
       " 479: '\\x96',\n",
       " 480: 'writing',\n",
       " 481: 'despite',\n",
       " 482: 'enjoyed',\n",
       " 483: 'kill',\n",
       " 484: 'horrible',\n",
       " 485: 'history',\n",
       " 486: 'tries',\n",
       " 487: 'amazing',\n",
       " 488: 'gave',\n",
       " 489: 'killer',\n",
       " 490: 'theyre',\n",
       " 491: 'works',\n",
       " 492: 'turns',\n",
       " 493: 'son',\n",
       " 494: 'matter',\n",
       " 495: 'act',\n",
       " 496: 'behind',\n",
       " 497: 'michael',\n",
       " 498: 'unfortunately',\n",
       " 499: 'expect',\n",
       " 500: 'flick',\n",
       " 501: 'side',\n",
       " 502: 'past',\n",
       " 503: 'favorite',\n",
       " 504: 'parts',\n",
       " 505: '1',\n",
       " 506: 'eyes',\n",
       " 507: 'brilliant',\n",
       " 508: 'themselves',\n",
       " 509: 'run',\n",
       " 510: 'says',\n",
       " 511: 'ones',\n",
       " 512: 'killed',\n",
       " 513: 'viewer',\n",
       " 514: 'myself',\n",
       " 515: 'starts',\n",
       " 516: 'car',\n",
       " 517: 'town',\n",
       " 518: 'obviously',\n",
       " 519: 'group',\n",
       " 520: 'heard',\n",
       " 521: 'decent',\n",
       " 522: 'thinking',\n",
       " 523: 'actress',\n",
       " 524: 'soon',\n",
       " 525: 'heart',\n",
       " 526: 'stuff',\n",
       " 527: 'sometimes',\n",
       " 528: 'directed',\n",
       " 529: 'overall',\n",
       " 530: 'took',\n",
       " 531: 'kid',\n",
       " 532: 'art',\n",
       " 533: 'city',\n",
       " 534: 'late',\n",
       " 535: 'happens',\n",
       " 536: 'highly',\n",
       " 537: 'genre',\n",
       " 538: 'hell',\n",
       " 539: 'except',\n",
       " 540: 'child',\n",
       " 541: 'leave',\n",
       " 542: 'feeling',\n",
       " 543: 'fight',\n",
       " 544: 'wouldnt',\n",
       " 545: 'extremely',\n",
       " 546: 'ill',\n",
       " 547: 'etc',\n",
       " 548: 'cannot',\n",
       " 549: 'told',\n",
       " 550: 'lack',\n",
       " 551: 'wonder',\n",
       " 552: 'close',\n",
       " 553: 'blood',\n",
       " 554: 'hour',\n",
       " 555: 'including',\n",
       " 556: 'looked',\n",
       " 557: 'police',\n",
       " 558: 'strong',\n",
       " 559: 'moment',\n",
       " 560: 'save',\n",
       " 561: 'shown',\n",
       " 562: 'particularly',\n",
       " 563: 'score',\n",
       " 564: 'stories',\n",
       " 565: 'involved',\n",
       " 566: 'daughter',\n",
       " 567: 'attempt',\n",
       " 568: 'experience',\n",
       " 569: 'obvious',\n",
       " 570: 'hand',\n",
       " 571: 'coming',\n",
       " 572: 'happen',\n",
       " 573: 'living',\n",
       " 574: 'complete',\n",
       " 575: 'type',\n",
       " 576: 'taken',\n",
       " 577: 'chance',\n",
       " 578: 'stop',\n",
       " 579: 'happened',\n",
       " 580: 'violence',\n",
       " 581: 'simple',\n",
       " 582: 'serious',\n",
       " 583: 'cool',\n",
       " 584: 'god',\n",
       " 585: 'song',\n",
       " 586: 'across',\n",
       " 587: 'opening',\n",
       " 588: 'murder',\n",
       " 589: 'james',\n",
       " 590: 'known',\n",
       " 591: 'roles',\n",
       " 592: 'number',\n",
       " 593: 'usually',\n",
       " 594: 'ago',\n",
       " 595: 'released',\n",
       " 596: 'hilarious',\n",
       " 597: 'voice',\n",
       " 598: 'ok',\n",
       " 599: 'hours',\n",
       " 600: 'order',\n",
       " 601: 'huge',\n",
       " 602: 'exactly',\n",
       " 603: 'english',\n",
       " 604: 'interest',\n",
       " 605: 'saying',\n",
       " 606: 'robert',\n",
       " 607: 'jokes',\n",
       " 608: 'cinematography',\n",
       " 609: 'whose',\n",
       " 610: 'crap',\n",
       " 611: 'talent',\n",
       " 612: 'slow',\n",
       " 613: 'wish',\n",
       " 614: 'age',\n",
       " 615: 'david',\n",
       " 616: 'possible',\n",
       " 617: 'yourself',\n",
       " 618: 'started',\n",
       " 619: 'relationship',\n",
       " 620: 'brother',\n",
       " 621: 'running',\n",
       " 622: 'alone',\n",
       " 623: 'cut',\n",
       " 624: 'shots',\n",
       " 625: 'sad',\n",
       " 626: 'none',\n",
       " 627: 'gore',\n",
       " 628: 'ridiculous',\n",
       " 629: 'reality',\n",
       " 630: 'please',\n",
       " 631: 'female',\n",
       " 632: 'major',\n",
       " 633: 'annoying',\n",
       " 634: 'somewhat',\n",
       " 635: 'hit',\n",
       " 636: 'taking',\n",
       " 637: 'today',\n",
       " 638: 'view',\n",
       " 639: 'ends',\n",
       " 640: 'career',\n",
       " 641: 'change',\n",
       " 642: 'beyond',\n",
       " 643: 'call',\n",
       " 644: 'seriously',\n",
       " 645: 'knew',\n",
       " 646: 'lets',\n",
       " 647: 'important',\n",
       " 648: 'documentary',\n",
       " 649: 'turned',\n",
       " 650: 'body',\n",
       " 651: '5',\n",
       " 652: 'strange',\n",
       " 653: 'power',\n",
       " 654: 'scary',\n",
       " 655: 'usual',\n",
       " 656: 'hero',\n",
       " 657: 'episodes',\n",
       " 658: 'finds',\n",
       " 659: 'opinion',\n",
       " 660: 'word',\n",
       " 661: 'mostly',\n",
       " 662: 'silly',\n",
       " 663: 'husband',\n",
       " 664: 'words',\n",
       " 665: 'knows',\n",
       " 666: 'upon',\n",
       " 667: 'novel',\n",
       " 668: 'due',\n",
       " 669: 'anyway',\n",
       " 670: 'talking',\n",
       " 671: 'apparently',\n",
       " 672: 'british',\n",
       " 673: 'country',\n",
       " 674: 'problems',\n",
       " 675: 'happy',\n",
       " 676: 'attention',\n",
       " 677: 'arent',\n",
       " 678: 'basically',\n",
       " 679: 'single',\n",
       " 680: 'four',\n",
       " 681: 'musical',\n",
       " 682: 'clearly',\n",
       " 683: 'directors',\n",
       " 684: 'local',\n",
       " 685: 'room',\n",
       " 686: 'disappointed',\n",
       " 687: 'miss',\n",
       " 688: '4',\n",
       " 689: 'tells',\n",
       " 690: 'level',\n",
       " 691: 'events',\n",
       " 692: 'light',\n",
       " 693: 'cheap',\n",
       " 694: 'talk',\n",
       " 695: 'add',\n",
       " 696: 'modern',\n",
       " 697: 'jack',\n",
       " 698: 'television',\n",
       " 699: 'sequence',\n",
       " 700: 'songs',\n",
       " 701: 'whats',\n",
       " 702: 'predictable',\n",
       " 703: 'appears',\n",
       " 704: 'review',\n",
       " 705: 'supporting',\n",
       " 706: 'rating',\n",
       " 707: 'dialog',\n",
       " 708: 'sets',\n",
       " 709: 'whether',\n",
       " 710: 'easily',\n",
       " 711: 'falls',\n",
       " 712: 'giving',\n",
       " 713: 'havent',\n",
       " 714: 'soundtrack',\n",
       " 715: 'a',\n",
       " 716: 'tried',\n",
       " 717: 'lots',\n",
       " 718: 'five',\n",
       " 719: 'mention',\n",
       " 720: 'space',\n",
       " 721: 'similar',\n",
       " 722: 'moving',\n",
       " 723: 'ten',\n",
       " 724: 'bring',\n",
       " 725: 'team',\n",
       " 726: 'within',\n",
       " 727: 'needs',\n",
       " 728: 'above',\n",
       " 729: 'enjoyable',\n",
       " 730: 'future',\n",
       " 731: 'parents',\n",
       " 732: 'french',\n",
       " 733: 'bunch',\n",
       " 734: 'romantic',\n",
       " 735: 'showing',\n",
       " 736: 'entertainment',\n",
       " 737: 'hate',\n",
       " 738: 'storyline',\n",
       " 739: 'certain',\n",
       " 740: 'viewers',\n",
       " 741: 'surprised',\n",
       " 742: 'dull',\n",
       " 743: 'middle',\n",
       " 744: 'clear',\n",
       " 745: 'theme',\n",
       " 746: 'subject',\n",
       " 747: 'message',\n",
       " 748: 'earth',\n",
       " 749: 'among',\n",
       " 750: 'filmed',\n",
       " 751: 'thriller',\n",
       " 752: 'george',\n",
       " 753: 'named',\n",
       " 754: 'fall',\n",
       " 755: 'sequel',\n",
       " 756: 'stay',\n",
       " 757: 'easy',\n",
       " 758: 'greatest',\n",
       " 759: 'feels',\n",
       " 760: 'king',\n",
       " 761: 'typical',\n",
       " 762: 'kept',\n",
       " 763: 'release',\n",
       " 764: 'using',\n",
       " 765: 'elements',\n",
       " 766: 'comments',\n",
       " 767: 'ways',\n",
       " 768: 'nearly',\n",
       " 769: 'effort',\n",
       " 770: 'theater',\n",
       " 771: 'working',\n",
       " 772: 'deal',\n",
       " 773: 'tale',\n",
       " 774: 'near',\n",
       " 775: 'buy',\n",
       " 776: 'means',\n",
       " 777: 'class',\n",
       " 778: 'herself',\n",
       " 779: 'actual',\n",
       " 780: 'brought',\n",
       " 781: 'doubt',\n",
       " 782: 'realistic',\n",
       " 783: 'boys',\n",
       " 784: 'straight',\n",
       " 785: 'famous',\n",
       " 786: 'suspense',\n",
       " 787: 'writer',\n",
       " 788: 'editing',\n",
       " 789: 'comic',\n",
       " 790: '80s',\n",
       " 791: 'sister',\n",
       " 792: 'youve',\n",
       " 793: 'gone',\n",
       " 794: 'reviews',\n",
       " 795: 'feature',\n",
       " 796: 'sorry',\n",
       " 797: 'learn',\n",
       " 798: 'die',\n",
       " 799: 'rock',\n",
       " 800: 'lady',\n",
       " 801: 'points',\n",
       " 802: 'general',\n",
       " 803: 'leads',\n",
       " 804: 'move',\n",
       " 805: 'begins',\n",
       " 806: 'monster',\n",
       " 807: 'material',\n",
       " 808: 'hear',\n",
       " 809: 'dr',\n",
       " 810: 'imagine',\n",
       " 811: 'particular',\n",
       " 812: 'whos',\n",
       " 813: 'somehow',\n",
       " 814: 'fantastic',\n",
       " 815: 'check',\n",
       " 816: 'weak',\n",
       " 817: 'viewing',\n",
       " 818: 'richard',\n",
       " 819: 'form',\n",
       " 820: 'crime',\n",
       " 821: 'mystery',\n",
       " 822: 'figure',\n",
       " 823: 'sequences',\n",
       " 824: 'peter',\n",
       " 825: 'animation',\n",
       " 826: 'forget',\n",
       " 827: 'decided',\n",
       " 828: 'deep',\n",
       " 829: 'premise',\n",
       " 830: 'killing',\n",
       " 831: 'atmosphere',\n",
       " 832: 'sit',\n",
       " 833: 'period',\n",
       " 834: 'rent',\n",
       " 835: 'surprise',\n",
       " 836: 'emotional',\n",
       " 837: 'avoid',\n",
       " 838: 'believable',\n",
       " 839: 'fast',\n",
       " 840: 'expected',\n",
       " 841: 'forced',\n",
       " 842: 'truth',\n",
       " 843: 'difficult',\n",
       " 844: 'dog',\n",
       " 845: 'follow',\n",
       " 846: 'poorly',\n",
       " 847: 'eventually',\n",
       " 848: 'red',\n",
       " 849: 'became',\n",
       " 850: 'crew',\n",
       " 851: 'paul',\n",
       " 852: 'shame',\n",
       " 853: 'scifi',\n",
       " 854: 'wait',\n",
       " 855: 'leaves',\n",
       " 856: 'tom',\n",
       " 857: 'okay',\n",
       " 858: 'york',\n",
       " 859: 'average',\n",
       " 860: 'memorable',\n",
       " 861: 'lame',\n",
       " 862: 'indeed',\n",
       " 863: 'doctor',\n",
       " 864: 'situation',\n",
       " 865: 'dance',\n",
       " 866: 'possibly',\n",
       " 867: 'eye',\n",
       " 868: 'stand',\n",
       " 869: 'needed',\n",
       " 870: 'whatever',\n",
       " 871: 'cheesy',\n",
       " 872: 'season',\n",
       " 873: 'credits',\n",
       " 874: 'meets',\n",
       " 875: 'interested',\n",
       " 876: 'open',\n",
       " 877: 'superb',\n",
       " 878: 'nature',\n",
       " 879: 'begin',\n",
       " 880: 'filmmakers',\n",
       " 881: 'sexual',\n",
       " 882: 'footage',\n",
       " 883: 'write',\n",
       " 884: 'reading',\n",
       " 885: 'imdb',\n",
       " 886: 'writers',\n",
       " 887: 'incredibly',\n",
       " 888: 'features',\n",
       " 889: 'minute',\n",
       " 890: 'gay',\n",
       " 891: 'western',\n",
       " 892: 'question',\n",
       " 893: 'meet',\n",
       " 894: 'hands',\n",
       " 895: 'male',\n",
       " 896: 'romance',\n",
       " 897: 'oscar',\n",
       " 898: 'beauty',\n",
       " 899: 'towards',\n",
       " 900: 'earlier',\n",
       " 901: 'nor',\n",
       " 902: 'whom',\n",
       " 903: 'keeps',\n",
       " 904: 'previous',\n",
       " 905: 'box',\n",
       " 906: 'personal',\n",
       " 907: 'inside',\n",
       " 908: 'quickly',\n",
       " 909: 'unless',\n",
       " 910: 'society',\n",
       " 911: 'plus',\n",
       " 912: 'hot',\n",
       " 913: 'third',\n",
       " 914: 'otherwise',\n",
       " 915: 'copy',\n",
       " 916: 'result',\n",
       " 917: 'unique',\n",
       " 918: 'realize',\n",
       " 919: 'badly',\n",
       " 920: '20',\n",
       " 921: 'screenplay',\n",
       " 922: 'weird',\n",
       " 923: 'laughs',\n",
       " 924: 'setting',\n",
       " 925: 'battle',\n",
       " 926: 'japanese',\n",
       " 927: 'sounds',\n",
       " 928: 'effect',\n",
       " 929: 'note',\n",
       " 930: 'total',\n",
       " 931: 'background',\n",
       " 932: 'comment',\n",
       " 933: 'ask',\n",
       " 934: 'appear',\n",
       " 935: 'directing',\n",
       " 936: 'powerful',\n",
       " 937: 'worked',\n",
       " 938: 'masterpiece',\n",
       " 939: 'older',\n",
       " 940: 'following',\n",
       " 941: 'street',\n",
       " 942: 'various',\n",
       " 943: 'america',\n",
       " 944: 'air',\n",
       " 945: 'island',\n",
       " 946: 'free',\n",
       " 947: 'portrayed',\n",
       " 948: 'perfectly',\n",
       " 949: 'de',\n",
       " 950: 'brings',\n",
       " 951: 'admit',\n",
       " 952: 'development',\n",
       " 953: 'water',\n",
       " 954: 'stage',\n",
       " 955: 'plenty',\n",
       " 956: 'acted',\n",
       " 957: 'fairly',\n",
       " 958: 'spent',\n",
       " 959: 'lee',\n",
       " 960: 'mark',\n",
       " 961: 'forward',\n",
       " 962: 'outside',\n",
       " 963: 'meant',\n",
       " 964: 'dumb',\n",
       " 965: 'front',\n",
       " 966: 'joe',\n",
       " 967: 'baby',\n",
       " 968: 'attempts',\n",
       " 969: 'deserves',\n",
       " 970: 'remake',\n",
       " 971: 'creepy',\n",
       " 972: 'create',\n",
       " 973: 'manages',\n",
       " 974: '70s',\n",
       " 975: 'expecting',\n",
       " 976: 'agree',\n",
       " 977: 'business',\n",
       " 978: 'joke',\n",
       " 979: 'wasted',\n",
       " 980: 'caught',\n",
       " 981: 'leading',\n",
       " 982: 'hardly',\n",
       " 983: 'dramatic',\n",
       " 984: 'ideas',\n",
       " 985: 'fails',\n",
       " 986: 'crazy',\n",
       " 987: 'cover',\n",
       " 988: 'brothers',\n",
       " 989: 'present',\n",
       " 990: 'missing',\n",
       " 991: 'reasons',\n",
       " 992: 'mess',\n",
       " 993: 'fire',\n",
       " 994: 'bill',\n",
       " 995: 'political',\n",
       " 996: 'secret',\n",
       " 997: 'pay',\n",
       " 998: 'party',\n",
       " 999: 'rich',\n",
       " 1000: 'girlfriend',\n",
       " ...}"
      ]
     },
     "execution_count": 19,
     "metadata": {},
     "output_type": "execute_result"
    }
   ],
   "source": [
    "tokenizer.index_word"
   ]
  },
  {
   "cell_type": "code",
   "execution_count": 20,
   "metadata": {
    "colab": {
     "base_uri": "https://localhost:8080/"
    },
    "id": "gCMsPqfIZ2fX",
    "outputId": "a483d092-ad2b-4ff9-ecba-324d5b0fe5b8"
   },
   "outputs": [
    {
     "name": "stdout",
     "output_type": "stream",
     "text": [
      "[[8, 5, 47, 46, 14], [8, 5]]\n"
     ]
    }
   ],
   "source": [
    "sentence=['This is very good movie']\n",
    "sentence.append('This is sample data')\n",
    "sent = tokenizer.texts_to_sequences(sentence)\n",
    "print(sent)"
   ]
  },
  {
   "cell_type": "code",
   "execution_count": 21,
   "metadata": {
    "id": "1ju5cNcCqFrr"
   },
   "outputs": [],
   "source": [
    "# Adding 1 because of reserved 0 index\n",
    "vocab_size = len(tokenizer.word_index) + 1\n",
    "maxlen = 100\n",
    "\n",
    "\n",
    "X_train = pad_sequences(X_train, padding='post', maxlen=maxlen)\n",
    "X_test = pad_sequences(X_test, padding='post', maxlen=maxlen)"
   ]
  },
  {
   "cell_type": "code",
   "execution_count": 23,
   "metadata": {
    "id": "1wlPnwRkqJe7"
   },
   "outputs": [],
   "source": [
    "from numpy import array\n",
    "from numpy import asarray\n",
    "from numpy import zeros\n",
    "\n",
    "embeddings_dictionary = dict()\n",
    "glove_file = open('./glove.6B/glove.6B.100d.txt', encoding=\"utf8\")\n",
    "\n",
    "for line in glove_file:\n",
    "    records = line.split()\n",
    "    word = records[0]\n",
    "    vector_dimensions = asarray(records[1:], dtype='float32')\n",
    "    embeddings_dictionary [word] = vector_dimensions\n",
    "glove_file.close()"
   ]
  },
  {
   "cell_type": "code",
   "execution_count": 24,
   "metadata": {
    "id": "deFRyWDAqMGE"
   },
   "outputs": [],
   "source": [
    "embedding_matrix = zeros((vocab_size, 100))\n",
    "for word, index in tokenizer.word_index.items():\n",
    "    embedding_vector = embeddings_dictionary.get(word)\n",
    "    if embedding_vector is not None:\n",
    "        embedding_matrix[index] = embedding_vector"
   ]
  },
  {
   "cell_type": "code",
   "execution_count": 25,
   "metadata": {
    "id": "04G86Z-Wu-Nn"
   },
   "outputs": [],
   "source": [
    "from keras.layers import SimpleRNN,Dense,Activation\n",
    "model = Sequential()\n",
    "embedding_layer = Embedding(vocab_size, 100, weights=[embedding_matrix], input_length=maxlen , trainable=False)\n",
    "model.add(embedding_layer)\n",
    "model.add(SimpleRNN(10,input_shape = (vocab_size,maxlen), return_sequences=False, activation=\"relu\"))\n",
    "model.add(Dense(1,activation='sigmoid'))"
   ]
  },
  {
   "cell_type": "code",
   "execution_count": 26,
   "metadata": {
    "colab": {
     "base_uri": "https://localhost:8080/"
    },
    "id": "0OclJrFuqQzE",
    "outputId": "7a2fd5d3-cc69-4d30-c41e-597b73f7c3ff"
   },
   "outputs": [
    {
     "name": "stdout",
     "output_type": "stream",
     "text": [
      "Model: \"sequential\"\n",
      "_________________________________________________________________\n",
      " Layer (type)                Output Shape              Param #   \n",
      "=================================================================\n",
      " embedding (Embedding)       (None, 100, 100)          19318200  \n",
      "                                                                 \n",
      " simple_rnn (SimpleRNN)      (None, 10)                1110      \n",
      "                                                                 \n",
      " dense (Dense)               (None, 1)                 11        \n",
      "                                                                 \n",
      "=================================================================\n",
      "Total params: 19,319,321\n",
      "Trainable params: 1,121\n",
      "Non-trainable params: 19,318,200\n",
      "_________________________________________________________________\n",
      "None\n"
     ]
    }
   ],
   "source": [
    "model.compile(optimizer='adam', loss='binary_crossentropy', metrics=['acc'])\n",
    "\n",
    "print(model.summary())"
   ]
  },
  {
   "cell_type": "code",
   "execution_count": 27,
   "metadata": {
    "colab": {
     "base_uri": "https://localhost:8080/"
    },
    "id": "akzIz6xOqTxw",
    "outputId": "13b3d5c7-720c-4aa6-88ca-a161d149e93f"
   },
   "outputs": [
    {
     "name": "stdout",
     "output_type": "stream",
     "text": [
      "Epoch 1/6\n",
      "250/250 [==============================] - 15s 45ms/step - loss: 0.6865 - acc: 0.5374 - val_loss: 0.6773 - val_acc: 0.5535\n",
      "Epoch 2/6\n",
      "250/250 [==============================] - 10s 40ms/step - loss: 0.6493 - acc: 0.6117 - val_loss: 0.6397 - val_acc: 0.6351\n",
      "Epoch 3/6\n",
      "250/250 [==============================] - 10s 38ms/step - loss: 0.5845 - acc: 0.6909 - val_loss: 0.5704 - val_acc: 0.7013\n",
      "Epoch 4/6\n",
      "250/250 [==============================] - 10s 39ms/step - loss: 0.5605 - acc: 0.7132 - val_loss: 0.5963 - val_acc: 0.6873\n",
      "Epoch 5/6\n",
      "250/250 [==============================] - 10s 39ms/step - loss: 0.5217 - acc: 0.7407 - val_loss: 0.4987 - val_acc: 0.7540\n",
      "Epoch 6/6\n",
      "250/250 [==============================] - 10s 39ms/step - loss: 0.5542 - acc: 0.7050 - val_loss: 0.6520 - val_acc: 0.6043\n"
     ]
    }
   ],
   "source": [
    "history = model.fit(X_train, y_train, batch_size=128, epochs=6, verbose=1, validation_split=0.2)"
   ]
  },
  {
   "cell_type": "code",
   "execution_count": 28,
   "metadata": {
    "colab": {
     "base_uri": "https://localhost:8080/"
    },
    "id": "rc8Pia5hqV_3",
    "outputId": "1fa5b753-af61-4404-aa5b-a8aa5ab7cbfd"
   },
   "outputs": [
    {
     "name": "stdout",
     "output_type": "stream",
     "text": [
      "313/313 [==============================] - 4s 13ms/step - loss: 0.6517 - acc: 0.6056\n"
     ]
    }
   ],
   "source": [
    "score = model.evaluate(X_test, y_test, verbose=1)"
   ]
  },
  {
   "cell_type": "code",
   "execution_count": 29,
   "metadata": {
    "colab": {
     "base_uri": "https://localhost:8080/"
    },
    "id": "VJyV_B4SqYB4",
    "outputId": "cf9fd2f0-82e7-45bc-b9a8-f077af3e63cb"
   },
   "outputs": [
    {
     "name": "stdout",
     "output_type": "stream",
     "text": [
      "Test Score: 0.6517133116722107\n",
      "Test Accuracy: 0.6055999994277954\n"
     ]
    }
   ],
   "source": [
    "print(\"Test Score:\", score[0])\n",
    "print(\"Test Accuracy:\", score[1])"
   ]
  },
  {
   "cell_type": "code",
   "execution_count": 30,
   "metadata": {
    "colab": {
     "base_uri": "https://localhost:8080/",
     "height": 573
    },
    "id": "5FpIR5hpqZ5o",
    "outputId": "816cdd84-32f0-4a19-c40d-bc0029749f61"
   },
   "outputs": [
    {
     "data": {
      "image/png": "[encoded data removed]",
      "text/plain": [
       "<Figure size 432x288 with 1 Axes>"
      ]
     },
     "metadata": {
      "needs_background": "light"
     },
     "output_type": "display_data"
    },
    {
     "data": {
      "image/png": "[encoded data removed]",
      "text/plain": [
       "<Figure size 432x288 with 1 Axes>"
      ]
     },
     "metadata": {
      "needs_background": "light"
     },
     "output_type": "display_data"
    }
   ],
   "source": [
    "import matplotlib.pyplot as plt\n",
    "\n",
    "plt.plot(history.history['acc'])\n",
    "plt.plot(history.history['val_acc'])\n",
    "plt.title('model accuracy')\n",
    "plt.ylabel('Accuracy')\n",
    "plt.xlabel('epoch')\n",
    "plt.legend(['train','validation'], loc='upper left')\n",
    "plt.show()\n",
    "\n",
    "plt.plot(history.history['loss'])\n",
    "plt.plot(history.history['val_loss'])\n",
    "plt.title('model loss')\n",
    "plt.ylabel('loss')\n",
    "plt.xlabel('epoch')\n",
    "plt.legend(['train','validation'], loc='upper left')\n",
    "plt.show()"
   ]
  },
  {
   "cell_type": "code",
   "execution_count": 31,
   "metadata": {
    "colab": {
     "base_uri": "https://localhost:8080/"
    },
    "id": "WGelLY5Aqe0I",
    "outputId": "86e81f08-61e3-4336-e980-76860537513f"
   },
   "outputs": [
    {
     "name": "stdin",
     "output_type": "stream",
     "text": [
      "Enter your sentence:  This is a good movie and must watch\n"
     ]
    },
    {
     "name": "stdout",
     "output_type": "stream",
     "text": [
      "This is good movie and must watch\n",
      "[[8, 5, 46, 14, 2, 204, 100]]\n",
      "[[  8   5  46  14   2 204 100   0   0   0   0   0   0   0   0   0   0   0\n",
      "    0   0   0   0   0   0   0   0   0   0   0   0   0   0   0   0   0   0\n",
      "    0   0   0   0   0   0   0   0   0   0   0   0   0   0   0   0   0   0\n",
      "    0   0   0   0   0   0   0   0   0   0   0   0   0   0   0   0   0   0\n",
      "    0   0   0   0   0   0   0   0   0   0   0   0   0   0   0   0   0   0\n",
      "    0   0   0   0   0   0   0   0   0   0]]\n",
      "1/1 [==============================] - 1s 543ms/step\n"
     ]
    },
    {
     "data": {
      "text/plain": [
       "array([[1]])"
      ]
     },
     "execution_count": 31,
     "metadata": {},
     "output_type": "execute_result"
    }
   ],
   "source": [
    "p =input(\"Enter your sentence: \")\n",
    "p=preprocess_text(p)\n",
    "print(p)\n",
    "sentence=[]\n",
    "sentence.append(p)\n",
    "sent = tokenizer.texts_to_sequences(sentence)\n",
    "print(sent)\n",
    "sent = pad_sequences(sent, padding='post', maxlen=maxlen)\n",
    "print(sent)\n",
    "(model.predict(sent) > 0.5).astype(\"int32\")"
   ]
  }
 ],
 "metadata": {
  "colab": {
   "provenance": []
  },
  "kernelspec": {
   "display_name": "Python 3 (ipykernel)",
   "language": "python",
   "name": "python3"
  },
  "language_info": {
   "codemirror_mode": {
    "name": "ipython",
    "version": 3
   },
   "file_extension": ".py",
   "mimetype": "text/x-python",
   "name": "python",
   "nbconvert_exporter": "python",
   "pygments_lexer": "ipython3",
   "version": "3.10.9"
  }
 },
 "nbformat": 4,
 "nbformat_minor": 4
}
